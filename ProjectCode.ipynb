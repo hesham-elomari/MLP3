{
 "cells": [
  {
   "cell_type": "code",
   "execution_count": 0,
   "metadata": {
    "colab": {
     "base_uri": "https://localhost:8080/",
     "height": 34
    },
    "colab_type": "code",
    "id": "kWPc0ch-uV5z",
    "outputId": "2d37fe7b-ea6b-4440-9588-21b817c863a2"
   },
   "outputs": [
    {
     "name": "stdout",
     "output_type": "stream",
     "text": [
      "Drive already mounted at /content/drive; to attempt to forcibly remount, call drive.mount(\"/content/drive\", force_remount=True).\n"
     ]
    }
   ],
   "source": [
    "import numpy as np\n",
    "import matplotlib.pyplot as plt\n",
    "import keras\n",
    "from keras.utils import to_categorical\n",
    "from keras.models import Sequential\n",
    "from keras.layers import Dense, Conv2D, MaxPooling2D, Dropout, Flatten\n",
    "from keras.preprocessing.image import ImageDataGenerator,load_img\n",
    "from keras.layers.normalization import BatchNormalization\n",
    "from keras.callbacks import ModelCheckpoint\n",
    "import pandas as pd\n",
    "from google.colab import drive\n",
    "drive.mount('/content/drive')"
   ]
  },
  {
   "cell_type": "code",
   "execution_count": 0,
   "metadata": {
    "colab": {},
    "colab_type": "code",
    "id": "rLtGz_6amE2G"
   },
   "outputs": [],
   "source": [
    "\n",
    "checkpoint = ModelCheckpoint('/content/drive/My Drive/Project3ML/Weights/weights.{epoch:02d}-{val_loss:.2f}.hdf5', monitor='val_loss', verbose=0, save_best_only=True, save_weights_only=True, mode='auto', period=1)\n",
    "callbacks_list = [checkpoint]\n"
   ]
  },
  {
   "cell_type": "code",
   "execution_count": 0,
   "metadata": {
    "colab": {},
    "colab_type": "code",
    "id": "16LjohKSVx0J"
   },
   "outputs": [],
   "source": [
    "input_shape = (256, 256, 3)\n",
    "nClasses = 2\n",
    "def createModel():\n",
    "    model = Sequential()\n",
    "    # a convolution layer of 32 features of size 3x3 with relu activation and zero padding\n",
    "    model.add(Conv2D(32, (3, 3), padding='same', activation='relu', input_shape=input_shape))\n",
    "    # a convolution layer of 32 features of size 3x3 with relu activation\n",
    "    model.add(Conv2D(32, (3, 3), activation='relu'))\n",
    "    # a batch normalization layer\n",
    "    model.add(BatchNormalization())\n",
    "    # maxpooling layer of filter size 2x2\n",
    "    model.add(MaxPooling2D(pool_size=(2, 2)))\n",
    "    \n",
    "    # a convolution layer of 64 features of size 3x3 with relu activation and zero padding\n",
    "    model.add(Conv2D(64, (3, 3), padding='same', activation='relu'))\n",
    "    # a convolution layer of 64 features of size 3x3 with relu activation\n",
    "    model.add(Conv2D(64, (3, 3), activation='relu'))\n",
    "    # a batch normalization layer\n",
    "    model.add(BatchNormalization())\n",
    "    # maxpooling layer of filter size 2x2\n",
    "    model.add(MaxPooling2D(pool_size=(2, 2)))\n",
    "    \n",
    "    # a convolution layer of 64 features of size 3x3 with relu activation and zero padding\n",
    "    model.add(Conv2D(64, (3, 3), padding='same', activation='relu'))\n",
    "    # a convolution layer of 64 features of size 3x3 with relu activation\n",
    "    model.add(Conv2D(64, (3, 3), activation='relu'))\n",
    "    # a batch normalization layer\n",
    "    model.add(BatchNormalization())\n",
    "    # maxpooling layer of filter size 2x2\n",
    "    model.add(MaxPooling2D(pool_size=(2, 2)))\n",
    "    # a dropout layer of 50%\n",
    "    model.add(Dropout(0.5))\n",
    "    \n",
    "    # flatten the output of the previous layer\n",
    "    model.add(Flatten())\n",
    "    # add a dense layer that outputs 512 units and apply relu activation\n",
    "    model.add(Dense(512, activation='relu'))\n",
    "    # a dropout layer of 50%\n",
    "    model.add(Dropout(0.5))\n",
    "    # add a dense layer with a softmax activation to classify the images\n",
    "    model.add(Dense(nClasses, activation='softmax'))\n",
    "     \n",
    "    return model\n",
    "  \n",
    "model1 = createModel()\n",
    "model1.compile(optimizer='rmsprop', loss='sparse_categorical_crossentropy', metrics=['accuracy'])\n"
   ]
  },
  {
   "cell_type": "code",
   "execution_count": 0,
   "metadata": {
    "colab": {
     "base_uri": "https://localhost:8080/",
     "height": 68
    },
    "colab_type": "code",
    "id": "KrQSYT8Ditjn",
    "outputId": "85a2b601-c76d-4451-ab53-8cb863e0ed46"
   },
   "outputs": [
    {
     "name": "stdout",
     "output_type": "stream",
     "text": [
      "Found 3098 images belonging to 2 classes.\n",
      "Found 774 images belonging to 2 classes.\n",
      "Found 860 images belonging to 2 classes.\n"
     ]
    }
   ],
   "source": [
    "train_p = ImageDataGenerator(validation_split =0.2,\n",
    "                             featurewise_center=True,\n",
    "                             featurewise_std_normalization=True)\n",
    "\n",
    "test_p = ImageDataGenerator(featurewise_center=True,\n",
    "                            featurewise_std_normalization=True)\n",
    "\n",
    "\n",
    "train_p1 = train_p.flow_from_directory(\n",
    "        '/content/drive/My Drive/Project3ML/Data/train',\n",
    "        batch_size=32,\n",
    "        class_mode='binary',\n",
    "        subset = 'training')\n",
    "\n",
    "\n",
    "validation_p1 = train_p.flow_from_directory(\n",
    "        '/content/drive/My Drive/Project3ML/Data/train',\n",
    "        batch_size=32,\n",
    "        class_mode='binary',\n",
    "        subset = 'validation')\n",
    "\n",
    "test_p1 = test_p.flow_from_directory(\n",
    "        '/content/drive/My Drive/Project3ML/Data/test',\n",
    "        batch_size=32,\n",
    "        class_mode='binary')\n",
    "\n",
    "#load weight once, then contine trainning \n",
    "#model1.load_weights('/content/drive/My Drive/Project3ML/Weights/weights.hdf5', by_name=True )\n",
    "\n",
    "x = int(3098 /32)\n",
    "y = int(774 /32)\n"
   ]
  },
  {
   "cell_type": "code",
   "execution_count": 0,
   "metadata": {
    "colab": {},
    "colab_type": "code",
    "id": "gALKbvOuJnA-"
   },
   "outputs": [],
   "source": [
    "model1.fit_generator(\n",
    "        train_p1,\n",
    "        steps_per_epoch = x,\n",
    "        epochs=50,\n",
    "        class_weight = weights,\n",
    "        validation_data=validation_p1,\n",
    "        callbacks = callbacks_list,\n",
    "        validation_steps = y)\n",
    "\n",
    "model1.evaluate_generator(test_p1,steps= 96)\n"
   ]
  },
  {
   "cell_type": "markdown",
   "metadata": {
    "colab_type": "text",
    "id": "ktvIngVmLHBD"
   },
   "source": [
    "steps_per_epoch = TotalTrainingSamples / TrainingBatchSize   (3872 /32)\n",
    "\n",
    "``````\n",
    "validation_steps = TotalvalidationSamples / ValidationBatchSize  (860/32) \n",
    "\n",
    "``````\n",
    "\n",
    "evalution value is [0.9772817471932032  ,  0.9349673203393525]"
   ]
  }
 ],
 "metadata": {
  "accelerator": "GPU",
  "colab": {
   "collapsed_sections": [],
   "name": "Project3.ipynb",
   "provenance": [],
   "version": "0.3.2"
  },
  "kernelspec": {
   "display_name": "Python 3",
   "language": "python",
   "name": "python3"
  },
  "language_info": {
   "codemirror_mode": {
    "name": "ipython",
    "version": 3
   },
   "file_extension": ".py",
   "mimetype": "text/x-python",
   "name": "python",
   "nbconvert_exporter": "python",
   "pygments_lexer": "ipython3",
   "version": "3.6.5"
  }
 },
 "nbformat": 4,
 "nbformat_minor": 1
}
